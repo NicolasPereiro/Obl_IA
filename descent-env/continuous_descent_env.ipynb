{
 "cells": [
  {
   "cell_type": "markdown",
   "metadata": {},
   "source": [
    "Esta notebook contiene bloques de código útiles para realizar Q-learning en el entorno \"Descent Env\""
   ]
  },
  {
   "cell_type": "code",
   "execution_count": 1,
   "metadata": {},
   "outputs": [
    {
     "name": "stdout",
     "output_type": "stream",
     "text": [
      "pygame 2.5.2 (SDL 2.28.3, Python 3.10.8)\n",
      "Hello from the pygame community. https://www.pygame.org/contribute.html\n",
      "Using Python-based geo functions\n",
      "Warning: RTree could not be loaded. areafilter get_intersecting and get_knearest won't work\n"
     ]
    }
   ],
   "source": [
    "import numpy as np\n",
    "from descent_env import DescentEnv\n",
    "import random "
   ]
  },
  {
   "cell_type": "code",
   "execution_count": 2,
   "metadata": {},
   "outputs": [
    {
     "name": "stdout",
     "output_type": "stream",
     "text": [
      "Reading config from C:\\Users\\npere\\bluesky\\settings.cfg\n",
      "Reading magnetic variation data\n",
      "Loading global navigation database...\n",
      "Reading cache: C:\\Users\\npere\\bluesky\\cache\\navdata.p\n",
      "Successfully loaded OpenAP performance model\n",
      "Failed to load BADA performance model\n",
      "Successfully loaded legacy performance model\n",
      "Successfully loaded plugin AREA\n",
      "Successfully loaded plugin DATAFEED\n"
     ]
    }
   ],
   "source": [
    "# Cambiar render_mode a rgb_array para entrenar/testear\n",
    "# env = DescentEnv(render_mode='human')\n",
    "env = DescentEnv()"
   ]
  },
  {
   "cell_type": "markdown",
   "metadata": {},
   "source": [
    "Observation Space"
   ]
  },
  {
   "cell_type": "code",
   "execution_count": null,
   "metadata": {},
   "outputs": [
    {
     "data": {
      "text/plain": [
       "Dict('altitude': Box(-inf, inf, (1,), float64), 'runway_distance': Box(-inf, inf, (1,), float64), 'target_altitude': Box(-inf, inf, (1,), float64), 'vz': Box(-inf, inf, (1,), float64))"
      ]
     },
     "execution_count": 4,
     "metadata": {},
     "output_type": "execute_result"
    }
   ],
   "source": [
    "env.observation_space"
   ]
  },
  {
   "cell_type": "markdown",
   "metadata": {},
   "source": [
    "Action Space"
   ]
  },
  {
   "cell_type": "code",
   "execution_count": 23,
   "metadata": {},
   "outputs": [
    {
     "data": {
      "text/plain": [
       "Box(-1.0, 1.0, (1,), float64)"
      ]
     },
     "execution_count": 23,
     "metadata": {},
     "output_type": "execute_result"
    }
   ],
   "source": [
    "env.action_space"
   ]
  },
  {
   "cell_type": "markdown",
   "metadata": {},
   "source": [
    "Discretización de los estados\n",
    "\n",
    "**Nota:** es importante que chequeen el espacio de observación y el espacio de acción del entorno. Los números usados son ejemplos y pueden no ser correctos\n",
    "\n",
    "**Discretizacion actualizada**"
   ]
  },
  {
   "cell_type": "code",
   "execution_count": 3,
   "metadata": {},
   "outputs": [],
   "source": [
    "ALT_MIN = 2000\n",
    "ALT_MAX = 4000\n",
    "ALT_MEAN = 1500\n",
    "ALT_STD = 3000\n",
    "VZ_MEAN = 0\n",
    "VZ_STD = 5\n",
    "RWY_DIS_MEAN = 100\n",
    "RWY_DIS_STD = 200\n",
    "error_altitude_space = np.linspace(-1, 1, 20)  # 20 bins para el error\n",
    "runway_distance_space = np.linspace(-0.5, 0, 20)  # igual que antes"
   ]
  },
  {
   "cell_type": "markdown",
   "metadata": {},
   "source": [
    "Obtener el estado a partir de la observación"
   ]
  },
  {
   "cell_type": "code",
   "execution_count": 4,
   "metadata": {},
   "outputs": [],
   "source": [
    "def get_state(obs):\n",
    "    alt = obs['altitude'][0]\n",
    "    target_alt = obs['target_altitude'][0]\n",
    "    runway_dist = obs['runway_distance'][0]\n",
    "    # Error de altitud\n",
    "    error_altitude = alt - target_alt\n",
    "    error_alt_idx = np.clip(np.digitize(error_altitude, error_altitude_space) - 1, 0, len(error_altitude_space) - 1)\n",
    "    # Bucket de distancia a la pista\n",
    "    runway_dist_idx = np.clip(np.digitize(runway_dist, runway_distance_space) - 1, 0, len(runway_distance_space) - 1)\n",
    "    return error_alt_idx, runway_dist_idx"
   ]
  },
  {
   "cell_type": "code",
   "execution_count": 5,
   "metadata": {},
   "outputs": [
    {
     "name": "stdout",
     "output_type": "stream",
     "text": [
      "OrderedDict([('altitude', array([-2.46519714])), ('runway_distance', array([1.75174467])), ('target_altitude', array([1.88666074])), ('vz', array([1.0423371]))])\n"
     ]
    },
    {
     "data": {
      "text/plain": [
       "(0, 19)"
      ]
     },
     "execution_count": 5,
     "metadata": {},
     "output_type": "execute_result"
    }
   ],
   "source": [
    "obs = env.observation_space.sample()\n",
    "print(obs)\n",
    "state = get_state(obs) # Ejemplo de obs\n",
    "state"
   ]
  },
  {
   "cell_type": "markdown",
   "metadata": {},
   "source": [
    "Discretización de las acciones"
   ]
  },
  {
   "cell_type": "code",
   "execution_count": 5,
   "metadata": {},
   "outputs": [
    {
     "data": {
      "text/plain": [
       "[-1.0,\n",
       " -0.8571428571428572,\n",
       " -0.7142857142857143,\n",
       " -0.5714285714285714,\n",
       " -0.4285714285714286,\n",
       " -0.2857142857142858,\n",
       " -0.1428571428571429,\n",
       " 0.0,\n",
       " 0.1428571428571428,\n",
       " 0.2857142857142856,\n",
       " 0.4285714285714284,\n",
       " 0.5714285714285714,\n",
       " 0.7142857142857142,\n",
       " 0.857142857142857,\n",
       " 1.0]"
      ]
     },
     "execution_count": 5,
     "metadata": {},
     "output_type": "execute_result"
    }
   ],
   "source": [
    "actions = list(np.linspace(-1, 1, 15))\n",
    "actions"
   ]
  },
  {
   "cell_type": "code",
   "execution_count": 6,
   "metadata": {},
   "outputs": [],
   "source": [
    "def get_sample_action():\n",
    "    return random.choice(actions)"
   ]
  },
  {
   "cell_type": "markdown",
   "metadata": {},
   "source": [
    "Inicilización de la tabla Q"
   ]
  },
  {
   "cell_type": "code",
   "execution_count": 8,
   "metadata": {},
   "outputs": [],
   "source": [
    "Q = np.zeros((len(error_altitude_space), len(runway_distance_space), len(actions)))"
   ]
  },
  {
   "cell_type": "markdown",
   "metadata": {},
   "source": [
    "Obtención de la acción a partir de la tabla Q"
   ]
  },
  {
   "cell_type": "code",
   "execution_count": 7,
   "metadata": {},
   "outputs": [],
   "source": [
    "def optimal_policy(state, Q):\n",
    "    action = actions[np.argmax(Q[state])]\n",
    "    return action"
   ]
  },
  {
   "cell_type": "markdown",
   "metadata": {},
   "source": [
    "Epsilon-Greedy Policy"
   ]
  },
  {
   "cell_type": "code",
   "execution_count": 12,
   "metadata": {},
   "outputs": [],
   "source": [
    "def epsilon_greedy_policy(state, Q, epsilon=0.1):\n",
    "    explore = np.random.binomial(1, epsilon)\n",
    "    if explore:\n",
    "        action = get_sample_action()\n",
    "    else:\n",
    "        action = optimal_policy(state, Q)\n",
    "        \n",
    "    return action"
   ]
  },
  {
   "cell_type": "markdown",
   "metadata": {},
   "source": [
    "Ejemplo de episodio "
   ]
  },
  {
   "cell_type": "code",
   "execution_count": 22,
   "metadata": {},
   "outputs": [],
   "source": [
    "obs, _ = env.reset()\n",
    "print(obs)\n",
    "done = False\n",
    "total_reward = 0\n",
    "state = get_state(obs)\n",
    "steps = 0\n",
    "\n",
    "min_runway_distance = float('inf')\n",
    "max_runway_distance = float('-inf')\n",
    "\n",
    "for _ in range(1):\n",
    "    # Acción del modelo\n",
    "    action = epsilon_greedy_policy(state, Q, 0.5)\n",
    "    action_idx = actions.index(action)\n",
    "    real_action = np.array([action])\n",
    "    obs, reward, done, _, _ = env.step(real_action)\n",
    "    next_state = get_state(obs)\n",
    "    \n",
    "    # Guardar min y max runway_distance\n",
    "    runway_distance = obs['runway_distance'][0]\n",
    "    if runway_distance < min_runway_distance:\n",
    "        min_runway_distance = runway_distance\n",
    "    if runway_distance > max_runway_distance:\n",
    "        max_runway_distance = runway_distance\n",
    "\n",
    "    state = next_state\n",
    "    total_reward += reward\n",
    "    steps += 1\n",
    "    if done:\n",
    "        obs, _ = env.reset()\n",
    "        state = get_state(obs)\n",
    "        done = False\n",
    "\n",
    "env.close()\n",
    "print('total_reward', total_reward)\n",
    "print('steps', steps)\n",
    "print('min_runway_distance:', min_runway_distance)\n",
    "print('max_runway_distance:', max_runway_distance)\n"
   ]
  },
  {
   "cell_type": "markdown",
   "metadata": {},
   "source": [
    "# Q-learning\n"
   ]
  },
  {
   "cell_type": "code",
   "execution_count": 9,
   "metadata": {},
   "outputs": [],
   "source": [
    "import pickle\n",
    "import sys\n",
    "sys.stdout = open('output.txt', 'w', buffering=1)"
   ]
  },
  {
   "cell_type": "code",
   "execution_count": null,
   "metadata": {},
   "outputs": [],
   "source": [
    "i = 0\n",
    "total_reward = 0\n",
    "rewards = []\n",
    "max_steps = 1\n",
    "\n",
    "env = DescentEnv()\n",
    "\n",
    "obs, _ = env.reset()\n",
    "done = False\n",
    "\n",
    "def get_explore_prob(i):\n",
    "    if i < 20000:\n",
    "        return 0.7  # Full exploración los primeros 500 episodios\n",
    "    else:\n",
    "        # Empieza en 0.5 y decae 0.05 cada 1000 episodios después de los primeros 500\n",
    "        steps_since_500 = i - 500\n",
    "        decay = (steps_since_500 // 1000) * 0.05\n",
    "        epsilon = max(0.5 - decay, 0.05)\n",
    "        return epsilon\n",
    "\n",
    "while True:\n",
    "    obs, _ = env.reset()\n",
    "    done = False\n",
    "    episode_reward = 0\n",
    "    while not done:\n",
    "        p = random.uniform(0, 1)\n",
    "        state = get_state(obs)\n",
    "        prob = get_explore_prob(i)\n",
    "        if p < prob:\n",
    "            action = get_sample_action()\n",
    "        else:\n",
    "            action = optimal_policy(state, Q)\n",
    "        next_obs, reward, done, _, _ = env.step(np.array([action]))\n",
    "        next_state = get_state(next_obs)\n",
    "        action_idx = actions.index(action)\n",
    "        Q[state][action_idx] = Q[state][action_idx] + 0.9 * (reward + 0.9 * np.max(Q[next_state]) - Q[state][action_idx])\n",
    "        obs = next_obs\n",
    "        episode_reward += reward\n",
    "    rewards.append(episode_reward)\n",
    "    if (i + 1) % 100 == 0:\n",
    "        mean_reward = np.mean(rewards[-100:])\n",
    "        print(f\"Media de reward en episodios {i-98} a {i+1}: {mean_reward} con exploracion {prob}\")\n",
    "    if (i + 1) % 1000 == 0:\n",
    "        with open('Q.pkl', 'wb') as f:\n",
    "            pickle.dump(Q, f)\n",
    "    i += 1"
   ]
  },
  {
   "cell_type": "code",
   "execution_count": 8,
   "metadata": {},
   "outputs": [
    {
     "name": "stdout",
     "output_type": "stream",
     "text": [
      "Tipo: <class 'numpy.ndarray'>\n",
      "Shape: (20, 20, 15)\n",
      "Tamaño en memoria (MB): 0.0457763671875\n"
     ]
    }
   ],
   "source": [
    "import pickle\n",
    "\n",
    "with open('Q.pkl', 'rb') as f:\n",
    "    Q = pickle.load(f)\n",
    "\n",
    "print(\"Tipo:\", type(Q))\n",
    "print(\"Shape:\", Q.shape)\n",
    "print(\"Tamaño en memoria (MB):\", Q.nbytes / 1024 / 1024)"
   ]
  },
  {
   "cell_type": "code",
   "execution_count": 9,
   "metadata": {},
   "outputs": [
    {
     "name": "stdout",
     "output_type": "stream",
     "text": [
      "Reading config from C:\\Users\\npere\\bluesky\\settings.cfg\n",
      "Reading magnetic variation data\n",
      "Loading global navigation database...\n",
      "Reading cache: C:\\Users\\npere\\bluesky\\cache\\navdata.p\n",
      "Attempt to reimplement AREA from <bound method Area.set_area of <bluesky.plugins.area.Area object at 0x00000187BC6F3640>> to <bound method Area.set_area of <bluesky.plugins.area.Area object at 0x00000187BC6F3640>>\n",
      "Attempt to reimplement EXP from <function init_plugin.<locals>.<lambda> at 0x00000187AF0001F0> to <function init_plugin.<locals>.<lambda> at 0x00000187BC69FF40>\n",
      "Attempt to reimplement TAXI from <bound method Area.set_taxi of <bluesky.plugins.area.Area object at 0x00000187BC6F3640>> to <bound method Area.set_taxi of <bluesky.plugins.area.Area object at 0x00000187BC6F3640>>\n",
      "Successfully loaded plugin AREA\n",
      "Attempt to reimplement DATAFEED from <bound method Modesbeast.toggle of <bluesky.plugins.adsbfeed.Modesbeast object at 0x00000187BC6F20E0>> to <bound method Modesbeast.toggle of <bluesky.plugins.adsbfeed.Modesbeast object at 0x000001879616E980>>\n",
      "Successfully loaded plugin DATAFEED\n",
      "Attempt to reimplement PLUGINS from <function init.<locals>.manage at 0x00000187BC6E9510> to <function init.<locals>.manage at 0x00000187BC641E10>\n",
      "Attempt to reimplement ADDNODES from <bound method Node.addnodes of <bluesky.network.detached.Node object at 0x00000187BC64A200>> to <bound method Node.addnodes of <bluesky.network.detached.Node object at 0x00000187B7FCC130>>\n",
      "Attempt to reimplement AIRWAY from <bound method Traffic.airwaycmd of <bluesky.traffic.traffic.Traffic object at 0x00000187B7FCC730>> to <bound method Traffic.airwaycmd of <bluesky.traffic.traffic.Traffic object at 0x00000187B7FCC730>>\n",
      "Attempt to reimplement ATALT from <bound method Condition.ataltcmd of <bluesky.traffic.conditional.Condition object at 0x00000187BC64AC80>> to <bound method Condition.ataltcmd of <bluesky.traffic.conditional.Condition object at 0x00000187BC64AC80>>\n",
      "Attempt to reimplement ATDIST from <bound method Condition.atdistcmd of <bluesky.traffic.conditional.Condition object at 0x00000187BC64AC80>> to <bound method Condition.atdistcmd of <bluesky.traffic.conditional.Condition object at 0x00000187BC64AC80>>\n",
      "Attempt to reimplement ATSPD from <bound method Condition.atspdcmd of <bluesky.traffic.conditional.Condition object at 0x00000187BC64AC80>> to <bound method Condition.atspdcmd of <bluesky.traffic.conditional.Condition object at 0x00000187BC64AC80>>\n",
      "Attempt to reimplement BANK from <bound method Traffic.setbanklim of <bluesky.traffic.traffic.Traffic object at 0x00000187B7FCC730>> to <bound method Traffic.setbanklim of <bluesky.traffic.traffic.Traffic object at 0x00000187B7FCC730>>\n",
      "Attempt to reimplement BATCH from <bound method Simulation.batch of <bluesky.simulation.simulation.Simulation object at 0x0000018797946CB0>> to <bound method Simulation.batch of <bluesky.simulation.simulation.Simulation object at 0x0000018797946E30>>\n",
      "Attempt to reimplement BLUESKY from <function singbluesky at 0x00000187AF2C4D30> to <function singbluesky at 0x00000187AF2C4D30>\n",
      "Attempt to reimplement BENCHMARK from <bound method Simulation.benchmark of <bluesky.simulation.simulation.Simulation object at 0x0000018797946CB0>> to <bound method Simulation.benchmark of <bluesky.simulation.simulation.Simulation object at 0x0000018797946E30>>\n",
      "Attempt to reimplement BOX from <function initbasecmds.<locals>.<lambda> at 0x00000187BC69D6C0> to <function initbasecmds.<locals>.<lambda> at 0x00000187BC6615A0>\n",
      "Attempt to reimplement CALC from <function calculator at 0x00000187AF2C4CA0> to <function calculator at 0x00000187AF2C4CA0>\n",
      "Attempt to reimplement CASMACHTHR from <function casmachthr at 0x00000187AF271000> to <function casmachthr at 0x00000187AF271000>\n",
      "Attempt to reimplement CD from <function setscenpath at 0x00000187AF2C4E50> to <function setscenpath at 0x00000187AF2C4E50>\n",
      "Attempt to reimplement CIRCLE from <function initbasecmds.<locals>.<lambda> at 0x00000187BC6E95A0> to <function initbasecmds.<locals>.<lambda> at 0x00000187BC641E10>\n",
      "Attempt to reimplement CLRCRECMD from <bound method Traffic.clrcrecmd of <bluesky.traffic.traffic.Traffic object at 0x00000187B7FCC730>> to <bound method Traffic.clrcrecmd of <bluesky.traffic.traffic.Traffic object at 0x00000187B7FCC730>>\n",
      "Attempt to reimplement CRE from <bound method Traffic.cre of <bluesky.traffic.traffic.Traffic object at 0x00000187B7FCC730>> to <bound method Traffic.cre of <bluesky.traffic.traffic.Traffic object at 0x00000187B7FCC730>>\n",
      "Attempt to reimplement CRECMD from <bound method Traffic.crecmd of <bluesky.traffic.traffic.Traffic object at 0x00000187B7FCC730>> to <bound method Traffic.crecmd of <bluesky.traffic.traffic.Traffic object at 0x00000187B7FCC730>>\n",
      "Attempt to reimplement CRECONFS from <bound method Traffic.creconfs of <bluesky.traffic.traffic.Traffic object at 0x00000187B7FCC730>> to <bound method Traffic.creconfs of <bluesky.traffic.traffic.Traffic object at 0x00000187B7FCC730>>\n",
      "Attempt to reimplement DATE from <bound method Simulation.setutc of <bluesky.simulation.simulation.Simulation object at 0x0000018797946CB0>> to <bound method Simulation.setutc of <bluesky.simulation.simulation.Simulation object at 0x0000018797946E30>>\n",
      "Attempt to reimplement DEFWPT from <bound method Navdatabase.defwpt of <bluesky.navdatabase.navdatabase.Navdatabase object at 0x0000018797944700>> to <bound method Navdatabase.defwpt of <bluesky.navdatabase.navdatabase.Navdatabase object at 0x00000187BC738880>>\n",
      "Attempt to reimplement DEL from <function initbasecmds.<locals>.<lambda> at 0x00000187BC6E9A20> to <function initbasecmds.<locals>.<lambda> at 0x00000187BC642C20>\n",
      "Attempt to reimplement DIST from <function distcalc at 0x00000187AF2C4DC0> to <function distcalc at 0x00000187AF2C4DC0>\n",
      "Attempt to reimplement DOC from <bound method ScreenIO.show_cmd_doc of <bluesky.simulation.screenio.ScreenIO object at 0x00000187BC648FA0>> to <bound method ScreenIO.show_cmd_doc of <bluesky.simulation.screenio.ScreenIO object at 0x00000187BC648FA0>>\n",
      "Attempt to reimplement DT from <function initbasecmds.<locals>.<lambda> at 0x00000187BC6E9AB0> to <function initbasecmds.<locals>.<lambda> at 0x00000187BC6EBBE0>\n",
      "Attempt to reimplement DTMULT from <bound method Simulation.set_dtmult of <bluesky.simulation.simulation.Simulation object at 0x0000018797946CB0>> to <bound method Simulation.set_dtmult of <bluesky.simulation.simulation.Simulation object at 0x0000018797946E30>>\n",
      "Attempt to reimplement ECHO from <function initbasecmds.<locals>.<lambda> at 0x00000187BC6E9B40> to <function initbasecmds.<locals>.<lambda> at 0x00000187BC6EADD0>\n",
      "Attempt to reimplement FF from <bound method Simulation.fastforward of <bluesky.simulation.simulation.Simulation object at 0x0000018797946CB0>> to <bound method Simulation.fastforward of <bluesky.simulation.simulation.Simulation object at 0x0000018797946E30>>\n",
      "Attempt to reimplement FIXDT from <function initbasecmds.<locals>.<lambda> at 0x00000187BC6E9BD0> to <function initbasecmds.<locals>.<lambda> at 0x00000187BC6EB2E0>\n",
      "Attempt to reimplement GROUP from <bound method TrafficGroups.group of <bluesky.traffic.trafficgroups.TrafficGroups object at 0x00000187BC6228C0>> to <bound method TrafficGroups.group of <bluesky.traffic.trafficgroups.TrafficGroups object at 0x00000187BC6228C0>>\n",
      "Attempt to reimplement HOLD from <bound method Simulation.hold of <bluesky.simulation.simulation.Simulation object at 0x0000018797946CB0>> to <bound method Simulation.hold of <bluesky.simulation.simulation.Simulation object at 0x0000018797946E30>>\n",
      "Attempt to reimplement IMPLEMENTATION from <function select_implementation at 0x00000187AF211630> to <function select_implementation at 0x00000187AF211630>\n",
      "Attempt to reimplement INSEDIT from <bound method ScreenIO.cmdline of <bluesky.simulation.screenio.ScreenIO object at 0x00000187BC648FA0>> to <bound method ScreenIO.cmdline of <bluesky.simulation.screenio.ScreenIO object at 0x00000187BC648FA0>>\n",
      "Attempt to reimplement LEGEND from <function initbasecmds.<locals>.<lambda> at 0x00000187BC6E9C60> to <function initbasecmds.<locals>.<lambda> at 0x00000187BC6EB640>\n",
      "Attempt to reimplement LINE from <function initbasecmds.<locals>.<lambda> at 0x00000187BC6E9CF0> to <function initbasecmds.<locals>.<lambda> at 0x00000187BC6EB5B0>\n",
      "Attempt to reimplement LSVAR from <function lsvar at 0x00000187AF249120> to <function lsvar at 0x00000187AF249120>\n",
      "Attempt to reimplement MAGVAR from <function magdeccmd at 0x00000187AF272F80> to <function magdeccmd at 0x00000187AF272F80>\n",
      "Attempt to reimplement MCRE from <bound method Traffic.mcre of <bluesky.traffic.traffic.Traffic object at 0x00000187B7FCC730>> to <bound method Traffic.mcre of <bluesky.traffic.traffic.Traffic object at 0x00000187B7FCC730>>\n",
      "Attempt to reimplement MOVE from <bound method Traffic.move of <bluesky.traffic.traffic.Traffic object at 0x00000187B7FCC730>> to <bound method Traffic.move of <bluesky.traffic.traffic.Traffic object at 0x00000187B7FCC730>>\n",
      "Attempt to reimplement NOISE from <bound method Traffic.setnoise of <bluesky.traffic.traffic.Traffic object at 0x00000187B7FCC730>> to <bound method Traffic.setnoise of <bluesky.traffic.traffic.Traffic object at 0x00000187B7FCC730>>\n",
      "Attempt to reimplement OP from <bound method Simulation.op of <bluesky.simulation.simulation.Simulation object at 0x0000018797946CB0>> to <bound method Simulation.op of <bluesky.simulation.simulation.Simulation object at 0x0000018797946E30>>\n",
      "Attempt to reimplement PLOT from <function plot at 0x00000187AF2C43A0> to <function plot at 0x00000187AF2C43A0>\n",
      "Attempt to reimplement POLY from <function initbasecmds.<locals>.<lambda> at 0x00000187BC6E9D80> to <function initbasecmds.<locals>.<lambda> at 0x00000187BC6EB1C0>\n",
      "Attempt to reimplement POLYALT from <function initbasecmds.<locals>.<lambda> at 0x00000187BC6E9E10> to <function initbasecmds.<locals>.<lambda> at 0x00000187BC6EAF80>\n",
      "Attempt to reimplement POLYLINE from <function initbasecmds.<locals>.<lambda> at 0x00000187BC6E9EA0> to <function initbasecmds.<locals>.<lambda> at 0x00000187BC6EB010>\n",
      "Attempt to reimplement POS from <bound method Traffic.poscommand of <bluesky.traffic.traffic.Traffic object at 0x00000187B7FCC730>> to <bound method Traffic.poscommand of <bluesky.traffic.traffic.Traffic object at 0x00000187B7FCC730>>\n",
      "Attempt to reimplement REALTIME from <bound method Simulation.realtime of <bluesky.simulation.simulation.Simulation object at 0x0000018797946CB0>> to <bound method Simulation.realtime of <bluesky.simulation.simulation.Simulation object at 0x0000018797946E30>>\n",
      "Attempt to reimplement RESET from <bound method Simulation.reset of <bluesky.simulation.simulation.Simulation object at 0x0000018797946CB0>> to <bound method Simulation.reset of <bluesky.simulation.simulation.Simulation object at 0x0000018797946E30>>\n",
      "Attempt to reimplement SEED from <function Simulation.setseed at 0x00000187AF2C70A0> to <function Simulation.setseed at 0x00000187AF2C70A0>\n",
      "Attempt to reimplement THR from <bound method Traffic.setthrottle of <bluesky.traffic.traffic.Traffic object at 0x00000187B7FCC730>> to <bound method Traffic.setthrottle of <bluesky.traffic.traffic.Traffic object at 0x00000187B7FCC730>>\n",
      "Attempt to reimplement TIME from <bound method Simulation.setutc of <bluesky.simulation.simulation.Simulation object at 0x0000018797946CB0>> to <bound method Simulation.setutc of <bluesky.simulation.simulation.Simulation object at 0x0000018797946E30>>\n",
      "Attempt to reimplement TRAIL from <bound method Trails.setTrails of <bluesky.traffic.trails.Trails object at 0x00000187B7FCC790>> to <bound method Trails.setTrails of <bluesky.traffic.trails.Trails object at 0x00000187B7FCC790>>\n",
      "Attempt to reimplement UNGROUP from <bound method TrafficGroups.ungroup of <bluesky.traffic.trafficgroups.TrafficGroups object at 0x00000187BC6228C0>> to <bound method TrafficGroups.ungroup of <bluesky.traffic.trafficgroups.TrafficGroups object at 0x00000187BC6228C0>>\n",
      "Recompensa media en 100 episodios: -41.068389693499995\n",
      "Recompensa minima: -117.98324851333334\n",
      "Recompensa maxima: -18.342901815000005\n",
      "Pasos promedio por episodio: 40.22\n"
     ]
    }
   ],
   "source": [
    "# Validación con 100 episodios usando la política aprendida (greedy)\n",
    "env = DescentEnv()\n",
    "total_rewards = []\n",
    "total_steps = []\n",
    "\n",
    "for episode in range(100):\n",
    "    obs, _ = env.reset()\n",
    "    done = False\n",
    "    episode_reward = 0\n",
    "    steps = 0\n",
    "    while not done:\n",
    "        state = get_state(obs)\n",
    "        action = optimal_policy(state, Q)  # Política greedy\n",
    "        obs, reward, done, _, _ = env.step(np.array([action]))\n",
    "        episode_reward += reward\n",
    "        steps += 1\n",
    "        # Si no quieres render, comenta la siguiente línea\n",
    "        # env.render()\n",
    "    total_rewards.append(episode_reward)\n",
    "    total_steps.append(steps)\n",
    "\n",
    "env.close()\n",
    "print(f\"Recompensa media en 100 episodios: {np.mean(total_rewards)}\")\n",
    "print(f\"Recompensa minima: {np.min(total_rewards)}\")\n",
    "print(f\"Recompensa maxima: {np.max(total_rewards)}\")\n",
    "print(f\"Pasos promedio por episodio: {np.mean(total_steps)}\")"
   ]
  },
  {
   "cell_type": "code",
   "execution_count": 11,
   "metadata": {},
   "outputs": [
    {
     "name": "stdout",
     "output_type": "stream",
     "text": [
      "Reading config from C:\\Users\\npere\\bluesky\\settings.cfg\n",
      "Reading magnetic variation data\n",
      "Loading global navigation database...\n",
      "Reading cache: C:\\Users\\npere\\bluesky\\cache\\navdata.p\n",
      "Attempt to reimplement AREA from <bound method Area.set_area of <bluesky.plugins.area.Area object at 0x00000187BC6F3640>> to <bound method Area.set_area of <bluesky.plugins.area.Area object at 0x00000187BC6F3640>>\n",
      "Attempt to reimplement EXP from <function init_plugin.<locals>.<lambda> at 0x00000187AF0001F0> to <function init_plugin.<locals>.<lambda> at 0x00000187D5B6B640>\n",
      "Attempt to reimplement TAXI from <bound method Area.set_taxi of <bluesky.plugins.area.Area object at 0x00000187BC6F3640>> to <bound method Area.set_taxi of <bluesky.plugins.area.Area object at 0x00000187BC6F3640>>\n",
      "Successfully loaded plugin AREA\n",
      "Attempt to reimplement DATAFEED from <bound method Modesbeast.toggle of <bluesky.plugins.adsbfeed.Modesbeast object at 0x00000187BC6F20E0>> to <bound method Modesbeast.toggle of <bluesky.plugins.adsbfeed.Modesbeast object at 0x00000187B7FCF790>>\n",
      "Successfully loaded plugin DATAFEED\n",
      "Attempt to reimplement PLUGINS from <function init.<locals>.manage at 0x00000187BC6E9510> to <function init.<locals>.manage at 0x00000187DDD2F760>\n",
      "Attempt to reimplement ADDNODES from <bound method Node.addnodes of <bluesky.network.detached.Node object at 0x00000187BC64A200>> to <bound method Node.addnodes of <bluesky.network.detached.Node object at 0x00000187DDD464D0>>\n",
      "Attempt to reimplement AIRWAY from <bound method Traffic.airwaycmd of <bluesky.traffic.traffic.Traffic object at 0x00000187B7FCC730>> to <bound method Traffic.airwaycmd of <bluesky.traffic.traffic.Traffic object at 0x00000187B7FCC730>>\n",
      "Attempt to reimplement ATALT from <bound method Condition.ataltcmd of <bluesky.traffic.conditional.Condition object at 0x00000187BC64AC80>> to <bound method Condition.ataltcmd of <bluesky.traffic.conditional.Condition object at 0x00000187BC64AC80>>\n",
      "Attempt to reimplement ATDIST from <bound method Condition.atdistcmd of <bluesky.traffic.conditional.Condition object at 0x00000187BC64AC80>> to <bound method Condition.atdistcmd of <bluesky.traffic.conditional.Condition object at 0x00000187BC64AC80>>\n",
      "Attempt to reimplement ATSPD from <bound method Condition.atspdcmd of <bluesky.traffic.conditional.Condition object at 0x00000187BC64AC80>> to <bound method Condition.atspdcmd of <bluesky.traffic.conditional.Condition object at 0x00000187BC64AC80>>\n",
      "Attempt to reimplement BANK from <bound method Traffic.setbanklim of <bluesky.traffic.traffic.Traffic object at 0x00000187B7FCC730>> to <bound method Traffic.setbanklim of <bluesky.traffic.traffic.Traffic object at 0x00000187B7FCC730>>\n",
      "Attempt to reimplement BATCH from <bound method Simulation.batch of <bluesky.simulation.simulation.Simulation object at 0x0000018797946CB0>> to <bound method Simulation.batch of <bluesky.simulation.simulation.Simulation object at 0x00000187AEFD8940>>\n",
      "Attempt to reimplement BLUESKY from <function singbluesky at 0x00000187AF2C4D30> to <function singbluesky at 0x00000187AF2C4D30>\n",
      "Attempt to reimplement BENCHMARK from <bound method Simulation.benchmark of <bluesky.simulation.simulation.Simulation object at 0x0000018797946CB0>> to <bound method Simulation.benchmark of <bluesky.simulation.simulation.Simulation object at 0x00000187AEFD8940>>\n",
      "Attempt to reimplement BOX from <function initbasecmds.<locals>.<lambda> at 0x00000187BC69D6C0> to <function initbasecmds.<locals>.<lambda> at 0x00000187BC643010>\n",
      "Attempt to reimplement CALC from <function calculator at 0x00000187AF2C4CA0> to <function calculator at 0x00000187AF2C4CA0>\n",
      "Attempt to reimplement CASMACHTHR from <function casmachthr at 0x00000187AF271000> to <function casmachthr at 0x00000187AF271000>\n",
      "Attempt to reimplement CD from <function setscenpath at 0x00000187AF2C4E50> to <function setscenpath at 0x00000187AF2C4E50>\n",
      "Attempt to reimplement CIRCLE from <function initbasecmds.<locals>.<lambda> at 0x00000187BC6E95A0> to <function initbasecmds.<locals>.<lambda> at 0x00000187DDD2F760>\n",
      "Attempt to reimplement CLRCRECMD from <bound method Traffic.clrcrecmd of <bluesky.traffic.traffic.Traffic object at 0x00000187B7FCC730>> to <bound method Traffic.clrcrecmd of <bluesky.traffic.traffic.Traffic object at 0x00000187B7FCC730>>\n",
      "Attempt to reimplement CRE from <bound method Traffic.cre of <bluesky.traffic.traffic.Traffic object at 0x00000187B7FCC730>> to <bound method Traffic.cre of <bluesky.traffic.traffic.Traffic object at 0x00000187B7FCC730>>\n",
      "Attempt to reimplement CRECMD from <bound method Traffic.crecmd of <bluesky.traffic.traffic.Traffic object at 0x00000187B7FCC730>> to <bound method Traffic.crecmd of <bluesky.traffic.traffic.Traffic object at 0x00000187B7FCC730>>\n",
      "Attempt to reimplement CRECONFS from <bound method Traffic.creconfs of <bluesky.traffic.traffic.Traffic object at 0x00000187B7FCC730>> to <bound method Traffic.creconfs of <bluesky.traffic.traffic.Traffic object at 0x00000187B7FCC730>>\n",
      "Attempt to reimplement DATE from <bound method Simulation.setutc of <bluesky.simulation.simulation.Simulation object at 0x0000018797946CB0>> to <bound method Simulation.setutc of <bluesky.simulation.simulation.Simulation object at 0x00000187AEFD8940>>\n",
      "Attempt to reimplement DEFWPT from <bound method Navdatabase.defwpt of <bluesky.navdatabase.navdatabase.Navdatabase object at 0x0000018797944700>> to <bound method Navdatabase.defwpt of <bluesky.navdatabase.navdatabase.Navdatabase object at 0x00000187DDD46110>>\n",
      "Attempt to reimplement DEL from <function initbasecmds.<locals>.<lambda> at 0x00000187BC6E9A20> to <function initbasecmds.<locals>.<lambda> at 0x00000187DDD2EB90>\n",
      "Attempt to reimplement DIST from <function distcalc at 0x00000187AF2C4DC0> to <function distcalc at 0x00000187AF2C4DC0>\n",
      "Attempt to reimplement DOC from <bound method ScreenIO.show_cmd_doc of <bluesky.simulation.screenio.ScreenIO object at 0x00000187BC648FA0>> to <bound method ScreenIO.show_cmd_doc of <bluesky.simulation.screenio.ScreenIO object at 0x00000187BC648FA0>>\n",
      "Attempt to reimplement DT from <function initbasecmds.<locals>.<lambda> at 0x00000187BC6E9AB0> to <function initbasecmds.<locals>.<lambda> at 0x00000187DDD2EEF0>\n",
      "Attempt to reimplement DTMULT from <bound method Simulation.set_dtmult of <bluesky.simulation.simulation.Simulation object at 0x0000018797946CB0>> to <bound method Simulation.set_dtmult of <bluesky.simulation.simulation.Simulation object at 0x00000187AEFD8940>>\n",
      "Attempt to reimplement ECHO from <function initbasecmds.<locals>.<lambda> at 0x00000187BC6E9B40> to <function initbasecmds.<locals>.<lambda> at 0x00000187DDD2EE60>\n",
      "Attempt to reimplement FF from <bound method Simulation.fastforward of <bluesky.simulation.simulation.Simulation object at 0x0000018797946CB0>> to <bound method Simulation.fastforward of <bluesky.simulation.simulation.Simulation object at 0x00000187AEFD8940>>\n",
      "Attempt to reimplement FIXDT from <function initbasecmds.<locals>.<lambda> at 0x00000187BC6E9BD0> to <function initbasecmds.<locals>.<lambda> at 0x00000187DDD2EA70>\n",
      "Attempt to reimplement GROUP from <bound method TrafficGroups.group of <bluesky.traffic.trafficgroups.TrafficGroups object at 0x00000187BC6228C0>> to <bound method TrafficGroups.group of <bluesky.traffic.trafficgroups.TrafficGroups object at 0x00000187BC6228C0>>\n",
      "Attempt to reimplement HOLD from <bound method Simulation.hold of <bluesky.simulation.simulation.Simulation object at 0x0000018797946CB0>> to <bound method Simulation.hold of <bluesky.simulation.simulation.Simulation object at 0x00000187AEFD8940>>\n",
      "Attempt to reimplement IMPLEMENTATION from <function select_implementation at 0x00000187AF211630> to <function select_implementation at 0x00000187AF211630>\n",
      "Attempt to reimplement INSEDIT from <bound method ScreenIO.cmdline of <bluesky.simulation.screenio.ScreenIO object at 0x00000187BC648FA0>> to <bound method ScreenIO.cmdline of <bluesky.simulation.screenio.ScreenIO object at 0x00000187BC648FA0>>\n",
      "Attempt to reimplement LEGEND from <function initbasecmds.<locals>.<lambda> at 0x00000187BC6E9C60> to <function initbasecmds.<locals>.<lambda> at 0x00000187DDD2E830>\n",
      "Attempt to reimplement LINE from <function initbasecmds.<locals>.<lambda> at 0x00000187BC6E9CF0> to <function initbasecmds.<locals>.<lambda> at 0x00000187DDD2E8C0>\n",
      "Attempt to reimplement LSVAR from <function lsvar at 0x00000187AF249120> to <function lsvar at 0x00000187AF249120>\n",
      "Attempt to reimplement MAGVAR from <function magdeccmd at 0x00000187AF272F80> to <function magdeccmd at 0x00000187AF272F80>\n",
      "Attempt to reimplement MCRE from <bound method Traffic.mcre of <bluesky.traffic.traffic.Traffic object at 0x00000187B7FCC730>> to <bound method Traffic.mcre of <bluesky.traffic.traffic.Traffic object at 0x00000187B7FCC730>>\n",
      "Attempt to reimplement MOVE from <bound method Traffic.move of <bluesky.traffic.traffic.Traffic object at 0x00000187B7FCC730>> to <bound method Traffic.move of <bluesky.traffic.traffic.Traffic object at 0x00000187B7FCC730>>\n",
      "Attempt to reimplement NOISE from <bound method Traffic.setnoise of <bluesky.traffic.traffic.Traffic object at 0x00000187B7FCC730>> to <bound method Traffic.setnoise of <bluesky.traffic.traffic.Traffic object at 0x00000187B7FCC730>>\n",
      "Attempt to reimplement OP from <bound method Simulation.op of <bluesky.simulation.simulation.Simulation object at 0x0000018797946CB0>> to <bound method Simulation.op of <bluesky.simulation.simulation.Simulation object at 0x00000187AEFD8940>>\n",
      "Attempt to reimplement PLOT from <function plot at 0x00000187AF2C43A0> to <function plot at 0x00000187AF2C43A0>\n",
      "Attempt to reimplement POLY from <function initbasecmds.<locals>.<lambda> at 0x00000187BC6E9D80> to <function initbasecmds.<locals>.<lambda> at 0x00000187DDD2F2E0>\n",
      "Attempt to reimplement POLYALT from <function initbasecmds.<locals>.<lambda> at 0x00000187BC6E9E10> to <function initbasecmds.<locals>.<lambda> at 0x00000187DDD2ECB0>\n",
      "Attempt to reimplement POLYLINE from <function initbasecmds.<locals>.<lambda> at 0x00000187BC6E9EA0> to <function initbasecmds.<locals>.<lambda> at 0x00000187DDD2F130>\n",
      "Attempt to reimplement POS from <bound method Traffic.poscommand of <bluesky.traffic.traffic.Traffic object at 0x00000187B7FCC730>> to <bound method Traffic.poscommand of <bluesky.traffic.traffic.Traffic object at 0x00000187B7FCC730>>\n",
      "Attempt to reimplement REALTIME from <bound method Simulation.realtime of <bluesky.simulation.simulation.Simulation object at 0x0000018797946CB0>> to <bound method Simulation.realtime of <bluesky.simulation.simulation.Simulation object at 0x00000187AEFD8940>>\n",
      "Attempt to reimplement RESET from <bound method Simulation.reset of <bluesky.simulation.simulation.Simulation object at 0x0000018797946CB0>> to <bound method Simulation.reset of <bluesky.simulation.simulation.Simulation object at 0x00000187AEFD8940>>\n",
      "Attempt to reimplement SEED from <function Simulation.setseed at 0x00000187AF2C70A0> to <function Simulation.setseed at 0x00000187AF2C70A0>\n",
      "Attempt to reimplement THR from <bound method Traffic.setthrottle of <bluesky.traffic.traffic.Traffic object at 0x00000187B7FCC730>> to <bound method Traffic.setthrottle of <bluesky.traffic.traffic.Traffic object at 0x00000187B7FCC730>>\n",
      "Attempt to reimplement TIME from <bound method Simulation.setutc of <bluesky.simulation.simulation.Simulation object at 0x0000018797946CB0>> to <bound method Simulation.setutc of <bluesky.simulation.simulation.Simulation object at 0x00000187AEFD8940>>\n",
      "Attempt to reimplement TRAIL from <bound method Trails.setTrails of <bluesky.traffic.trails.Trails object at 0x00000187B7FCC790>> to <bound method Trails.setTrails of <bluesky.traffic.trails.Trails object at 0x00000187B7FCC790>>\n",
      "Attempt to reimplement UNGROUP from <bound method TrafficGroups.ungroup of <bluesky.traffic.trafficgroups.TrafficGroups object at 0x00000187BC6228C0>> to <bound method TrafficGroups.ungroup of <bluesky.traffic.trafficgroups.TrafficGroups object at 0x00000187BC6228C0>>\n",
      "[VideoRecorderWrapper] Saving video to videos\\episode_0_20250620_105244.mp4\n"
     ]
    }
   ],
   "source": [
    "#Grabacion del resultado\n",
    "from env_recorder_wrapper import VideoRecorderWrapper\n",
    "env = DescentEnv(render_mode=\"rgb_array\")\n",
    "env = VideoRecorderWrapper(env, fps=10) \n",
    "\n",
    "\n",
    "total_rewards = []\n",
    "total_steps = []\n",
    "\n",
    "for episode in range(1):\n",
    "    obs, _ = env.reset()\n",
    "    done = False\n",
    "    episode_reward = 0\n",
    "    steps = 0\n",
    "    while not done:\n",
    "        state = get_state(obs)\n",
    "        action = optimal_policy(state, Q) \n",
    "        obs, reward, done, truncated, _ = env.step(np.array([action]))\n",
    "        episode_reward += reward\n",
    "        steps += 1\n",
    "        if done or truncated:\n",
    "            break\n",
    "    total_rewards.append(episode_reward)\n",
    "    total_steps.append(steps)\n",
    "\n",
    "env.close()"
   ]
  },
  {
   "cell_type": "code",
   "execution_count": null,
   "metadata": {},
   "outputs": [],
   "source": [
    "env = DescentEnv(render_mode=\"rgb_array\")\n",
    "frame = env.render()\n",
    "print(type(frame), frame.shape if frame is not None else \"None\")"
   ]
  },
  {
   "cell_type": "markdown",
   "metadata": {},
   "source": [
    "# Stochastic Q Learning"
   ]
  },
  {
   "cell_type": "code",
   "execution_count": null,
   "metadata": {},
   "outputs": [],
   "source": [
    "import math\n",
    "\n",
    "\n",
    "def stoch_argmax(Q_values, k=None):\n",
    "    n = len(Q_values)\n",
    "    if k is None:\n",
    "        k = max(1, int(math.log2(n)))  # O(log(n))\n",
    "    subset = random.sample(range(n), k)\n",
    "    best_action = subset[0]\n",
    "    best_value = Q_values[best_action]\n",
    "    for i in subset[1:]:\n",
    "        if Q_values[i] > best_value:\n",
    "            best_action = i\n",
    "            best_value = Q_values[i]\n",
    "    return best_action"
   ]
  },
  {
   "cell_type": "code",
   "execution_count": null,
   "metadata": {},
   "outputs": [],
   "source": [
    "k_stochmax = 3  \n",
    "rewards = []\n",
    "i=0\n",
    "def get_explore_prob(i):\n",
    "    \"\"\"\n",
    "    Devuelve la probabilidad de exploración (epsilon) según el número de episodio i.\n",
    "    Alterna entre 0.7 y 0.3 cada 500 episodios.\n",
    "    \"\"\"\n",
    "    if 0 <= i <= 500:\n",
    "        return 0.7\n",
    "    elif 501 <= i <= 1000:\n",
    "        return 0.3\n",
    "    elif 1001 <= i <= 1500:\n",
    "        return 0.7\n",
    "    elif 1501 <= i <= 2000:\n",
    "        return 0.3\n",
    "    elif 2001 <= i <= 2500:\n",
    "        return 0.7\n",
    "    elif 2501 <= i <= 3000:\n",
    "        return 0.3\n",
    "    elif 3001 <= i <= 3500:\n",
    "        return 0.7\n",
    "    elif 3501 <= i <= 4000:\n",
    "        return 0.3\n",
    "    elif 4001 <= i <= 4500:\n",
    "        return 0.7\n",
    "    elif 4501 <= i <= 5000:\n",
    "        return 0.3\n",
    "    else:\n",
    "        return 0.1  # valor por defecto fuera de rango\n",
    "\n",
    "while i < 5000:\n",
    "    obs, _ = env.reset()\n",
    "    done = False\n",
    "    episode_reward = 0\n",
    "    while not done:\n",
    "        p = random.uniform(0, 1)\n",
    "        state = get_state(obs)\n",
    "        prob = get_explore_prob(i)\n",
    "        if p < prob:\n",
    "            action = get_sample_action()\n",
    "        else:\n",
    "            action_idx = stoch_argmax(Q[state], k=k_stochmax)\n",
    "            action = actions[action_idx]\n",
    "        next_obs, reward, done, _, _ = env.step(np.array([action]))\n",
    "        next_state = get_state(next_obs)\n",
    "        best_next_action_idx = stoch_argmax(Q[next_state], k=k_stochmax)\n",
    "        Q[state][action_idx] += 0.9 * (reward + 0.9 * Q[next_state][best_next_action_idx] - Q[state][action_idx])\n",
    "        obs = next_obs\n",
    "        episode_reward += reward\n",
    "    rewards.append(episode_reward)\n",
    "    if (i + 1) % 100 == 0:\n",
    "        mean_reward = np.mean(rewards[-100:])\n",
    "        print(f\"Media de reward en episodios {i-98} a {i+1}: {mean_reward} con exploración {prob}\")\n",
    "    i += 1"
   ]
  }
 ],
 "metadata": {
  "kernelspec": {
   "display_name": "descent-env-py3.10",
   "language": "python",
   "name": "python3"
  },
  "language_info": {
   "codemirror_mode": {
    "name": "ipython",
    "version": 3
   },
   "file_extension": ".py",
   "mimetype": "text/x-python",
   "name": "python",
   "nbconvert_exporter": "python",
   "pygments_lexer": "ipython3",
   "version": "3.10.8"
  },
  "orig_nbformat": 4
 },
 "nbformat": 4,
 "nbformat_minor": 2
}
